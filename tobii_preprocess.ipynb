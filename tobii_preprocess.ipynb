{
 "cells": [
  {
   "cell_type": "code",
   "execution_count": 1,
   "metadata": {},
   "outputs": [],
   "source": [
    "import pandas as pd"
   ]
  },
  {
   "cell_type": "code",
   "execution_count": 2,
   "metadata": {},
   "outputs": [],
   "source": [
    "acc_col = ['Recording timestamp', 'Computer timestamp [μs]', 'Accelerometer X [m/s²]', 'Accelerometer Y [m/s²]', 'Accelerometer Z [m/s²]']\n",
    "acc_cols = ['Accelerometer X [m/s²]', 'Accelerometer Y [m/s²]', 'Accelerometer Z [m/s²]']\n",
    "\n",
    "et_col = ['Recording timestamp', 'Computer timestamp [μs]', 'Gaze point X [MCS px]', 'Gaze point Y [MCS px]','Gaze point 3D X [HUCS mm]', 'Gaze point 3D Y [HUCS mm]','Gaze point 3D Z [HUCS mm]', 'Gaze direction left X [HUCS norm]','Gaze direction left Y [HUCS norm]','Gaze direction left Z [HUCS norm]','Gaze direction right X [HUCS norm]','Gaze direction right Y [HUCS norm]','Gaze direction right Z [HUCS norm]', 'Pupil position left X [HUCS mm]','Pupil position left Y [HUCS mm]', 'Pupil position left Z [HUCS mm]','Pupil position right X [HUCS mm]', 'Pupil position right Y [HUCS mm]','Pupil position right Z [HUCS mm]', 'Pupil diameter left [mm]','Pupil diameter right [mm]', 'Eye movement type','Gaze event duration [ms]', 'Fixation point X [MCS px]','Fixation point Y [MCS px]']\n",
    "etcol = ['Recording timestamp', 'Computer timestamp [μs]', 'Gaze point X [MCS px]', 'Gaze point Y [MCS px]','Gaze point 3D X [HUCS mm]', 'Gaze point 3D Y [HUCS mm]','Gaze point 3D Z [HUCS mm]', 'Gaze direction left X [HUCS norm]','Gaze direction left Y [HUCS norm]','Gaze direction left Z [HUCS norm]','Gaze direction right X [HUCS norm]','Gaze direction right Y [HUCS norm]','Gaze direction right Z [HUCS norm]', 'Pupil position left X [HUCS mm]','Pupil position left Y [HUCS mm]', 'Pupil position left Z [HUCS mm]','Pupil position right X [HUCS mm]', 'Pupil position right Y [HUCS mm]','Pupil position right Z [HUCS mm]', 'Pupil diameter left [mm]','Pupil diameter right [mm]', 'Fixation point X [MCS px]','Fixation point Y [MCS px]']\n",
    "et_cols = ['Gaze point X [MCS px]', 'Gaze point Y [MCS px]','Gaze point 3D X [HUCS mm]', 'Gaze point 3D Y [HUCS mm]','Gaze point 3D Z [HUCS mm]', 'Gaze direction left X [HUCS norm]','Gaze direction left Y [HUCS norm]','Gaze direction left Z [HUCS norm]','Gaze direction right X [HUCS norm]','Gaze direction right Y [HUCS norm]','Gaze direction right Z [HUCS norm]', 'Pupil position left X [HUCS mm]','Pupil position left Y [HUCS mm]', 'Pupil position left Z [HUCS mm]','Pupil position right X [HUCS mm]', 'Pupil position right Y [HUCS mm]','Pupil position right Z [HUCS mm]', 'Pupil diameter left [mm]','Pupil diameter right [mm]', 'Fixation point X [MCS px]','Fixation point Y [MCS px]']\n",
    "\n",
    "gy_col = ['Recording timestamp', 'Computer timestamp [μs]', 'Gyro X [°/s]','Gyro Y [°/s]', 'Gyro Z [°/s]']\n",
    "gy_cols = ['Gyro X [°/s]','Gyro Y [°/s]', 'Gyro Z [°/s]']\n"
   ]
  },
  {
   "cell_type": "code",
   "execution_count": 3,
   "metadata": {},
   "outputs": [],
   "source": [
    "files = ['sub01', 'sub02', 'sub03', 'sub04', 'sub05', 'sub06', 'sub07', 'sub08', 'sub09', 'sub10', 'sub11', 'sub12', 'sub13', 'sub14', 'sub15', 'sub16', 'sub17', 'sub18', 'sub19', 'sub20', 'sub21', 'sub22', 'sub23', 'sub24', 'sub25', 'sub26', 'sub27', 'sub28', 'sub29', 'sub30', 'sub31', 'sub32']\n",
    "subfiles = ['{}.csv'.format(x) for x in range(5,17)]\n",
    "skip_files = ['../data/cleaned_driving_data/sub01/13.csv', '../data/cleaned_driving_data/sub03/9.csv']\n"
   ]
  },
  {
   "cell_type": "code",
   "execution_count": 4,
   "metadata": {},
   "outputs": [],
   "source": [
    "tot = pd.read_csv('../data/timestamp_data/TO_micros.csv')\n",
    "\n",
    "for i in range(len(files)):\n",
    "    \n",
    "    acc = pd.read_csv('../data/tobii_acc_data/'+files[i]+'.csv')\n",
    "    acc.columns = acc_col\n",
    "    acc = acc.groupby(acc.index // 10).mean()\n",
    "    et = pd.read_csv('../data/tobii_et_data/'+files[i]+'.csv')\n",
    "    et.columns = et_col\n",
    "    et = et[etcol]\n",
    "    et = et.groupby(et.index // 10).mean()\n",
    "    gy = pd.read_csv('../data/tobii_gy_data/'+files[i]+'.csv')\n",
    "    gy.columns = gy_col\n",
    "    gy = gy.groupby(gy.index // 10).mean()\n",
    "\n",
    "    for j in range(len(subfiles)):\n",
    "        \n",
    "        path = '../data/cleaned_driving_data/'+files[i]+'/'+subfiles[j]\n",
    "        \n",
    "        if path in skip_files:\n",
    "            continue\n",
    "        \n",
    "        df = pd.read_csv('../data/cleaned_driving_data/'+files[i]+'/'+subfiles[j])\n",
    "\n",
    "        to_idx = df[df['longitudinal_velocity'] != 88].index.values[0]\n",
    "        \n",
    "        acc_idx = acc[acc['Recording timestamp'] <= tot.iloc[j,i]].index.values[-1]\n",
    "        et_idx = et[et['Recording timestamp'] <= tot.iloc[j,i]].index.values[-1]\n",
    "        gy_idx = gy[gy['Recording timestamp'] <= tot.iloc[j,i]].index.values[-1]\n",
    "\n",
    "        lacc_idx = acc_idx - to_idx\n",
    "        let_idx = et_idx - to_idx\n",
    "        lgy_idx = gy_idx - to_idx\n",
    "\n",
    "        uacc_idx = acc_idx + (len(df) - to_idx)\n",
    "        uet_idx = et_idx + (len(df) - to_idx)\n",
    "        ugy_idx = gy_idx + (len(df) - to_idx)\n",
    "\n",
    "        acc_t = acc[acc_cols][lacc_idx:uacc_idx].reset_index(drop=True)\n",
    "        et_t = et[et_cols][let_idx:uet_idx].reset_index(drop=True)\n",
    "        gy_t = gy[gy_cols][lgy_idx:ugy_idx].reset_index(drop=True)\n",
    "\n",
    "        df = pd.concat([df, acc_t, et_t, gy_t], axis=1)\n",
    "        df.to_csv('../data/cleaned_driving_data_tobii/'+files[i]+'/'+subfiles[j], index=False)\n"
   ]
  },
  {
   "cell_type": "code",
   "execution_count": null,
   "metadata": {},
   "outputs": [],
   "source": []
  }
 ],
 "metadata": {
  "kernelspec": {
   "display_name": "venv",
   "language": "python",
   "name": "python3"
  },
  "language_info": {
   "codemirror_mode": {
    "name": "ipython",
    "version": 3
   },
   "file_extension": ".py",
   "mimetype": "text/x-python",
   "name": "python",
   "nbconvert_exporter": "python",
   "pygments_lexer": "ipython3",
   "version": "3.10.6"
  },
  "orig_nbformat": 4,
  "vscode": {
   "interpreter": {
    "hash": "f2ac3815f490baa7abc22c2717d4dc21d64c0b7e1df0d49128b5f181d05973e7"
   }
  }
 },
 "nbformat": 4,
 "nbformat_minor": 2
}
