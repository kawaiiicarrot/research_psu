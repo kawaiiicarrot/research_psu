{
 "cells": [
  {
   "cell_type": "code",
   "execution_count": 1,
   "metadata": {},
   "outputs": [],
   "source": [
    "#import libraries\n",
    "import pandas as pd\n",
    "import glob"
   ]
  },
  {
   "cell_type": "code",
   "execution_count": null,
   "metadata": {},
   "outputs": [],
   "source": [
    "dirs = [d for d in glob.glob('data/cleaned_driving_data/*')]\n",
    "out_path = 'data/to_metrics/'"
   ]
  },
  {
   "cell_type": "code",
   "execution_count": 15,
   "metadata": {},
   "outputs": [],
   "source": [
    "for d in dirs:\n",
    "    files = [f for f in glob.glob(d + '/*.csv')]\n",
    "    for file in files:\n",
    "        df = pd.read_csv(file)\n",
    "\n",
    "        if all(df['longitudinal_velocity'] == 88):\n",
    "            continue\n",
    "        else:\n",
    "            #takeover index\n",
    "            to_idx = int(df[df['longitudinal_velocity'] != 88].index.values[0])\n",
    "            #time at takeover\n",
    "            to_time = df['elapsed_time'].iloc[[to_idx][0]]\n",
    "            #index after 5 seconds of takeover\n",
    "            fi_idx = int(df[df['elapsed_time'] <= (to_time + 5)].index.values[-1])\n",
    "            #creating a df from it\n",
    "            dft = df.iloc[to_idx:fi_idx+1].reset_index(drop=True)\n",
    "\n",
    "            #calculating the metrics\n",
    "            max_vel = dft['longitudinal_velocity'].max()\n",
    "            avg_vel = dft['longitudinal_velocity'].mean()\n",
    "            std_vel = dft['longitudinal_velocity'].std()\n",
    "            max_ang = dft['vehicle_heading_angle'].max()\n",
    "            avg_ang = dft['vehicle_heading_angle'].mean()\n",
    "            std_pos = dft['lateral_lane_position'].std()\n",
    "\n",
    "            #exporting the calculated metrics\n",
    "            met = {'Metrics':['Max Longitudinal Velocity', 'Average Longitudinal Velocity', 'Standard Deviation Longitudinal Velocity', 'Max Heading Angle', 'Average Heading Angle', 'Standard Deviation Lateral Lane Position'],\n",
    "            'Values': [max_vel, avg_vel, std_vel, max_ang, avg_ang, std_pos]}\n",
    "            met_df = pd.DataFrame(met)\n",
    "            out_na = file.split('/')\n",
    "            out_name = out_na[-2] + '/' + out_na[-1]\n",
    "            met_df.to_csv((out_path + out_name), index=False)\n"
   ]
  },
  {
   "cell_type": "code",
   "execution_count": null,
   "metadata": {},
   "outputs": [],
   "source": []
  }
 ],
 "metadata": {
  "kernelspec": {
   "display_name": "Python 3.10.6 ('venv')",
   "language": "python",
   "name": "python3"
  },
  "language_info": {
   "codemirror_mode": {
    "name": "ipython",
    "version": 3
   },
   "file_extension": ".py",
   "mimetype": "text/x-python",
   "name": "python",
   "nbconvert_exporter": "python",
   "pygments_lexer": "ipython3",
   "version": "3.10.6"
  },
  "orig_nbformat": 4,
  "vscode": {
   "interpreter": {
    "hash": "f2ac3815f490baa7abc22c2717d4dc21d64c0b7e1df0d49128b5f181d05973e7"
   }
  }
 },
 "nbformat": 4,
 "nbformat_minor": 2
}
