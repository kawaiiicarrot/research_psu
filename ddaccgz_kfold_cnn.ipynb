{
 "cells": [
  {
   "cell_type": "code",
   "execution_count": 1,
   "metadata": {},
   "outputs": [],
   "source": [
    "#import libraries\n",
    "import pandas as pd\n",
    "import tensorflow as tf\n",
    "from keras import layers, models\n",
    "import numpy as np\n",
    "from sklearn.model_selection import train_test_split\n",
    "import random\n",
    "from sklearn import metrics\n",
    "import time\n"
   ]
  },
  {
   "cell_type": "code",
   "execution_count": 2,
   "metadata": {},
   "outputs": [
    {
     "name": "stdout",
     "output_type": "stream",
     "text": [
      "Metal device set to: Apple M2\n",
      "\n",
      "systemMemory: 16.00 GB\n",
      "maxCacheSize: 5.33 GB\n",
      "\n"
     ]
    },
    {
     "name": "stderr",
     "output_type": "stream",
     "text": [
      "2023-02-26 17:44:55.290191: I tensorflow/core/common_runtime/pluggable_device/pluggable_device_factory.cc:306] Could not identify NUMA node of platform GPU ID 0, defaulting to 0. Your kernel may not have been built with NUMA support.\n",
      "2023-02-26 17:44:55.290304: I tensorflow/core/common_runtime/pluggable_device/pluggable_device_factory.cc:272] Created TensorFlow device (/job:localhost/replica:0/task:0/device:GPU:0 with 0 MB memory) -> physical PluggableDevice (device: 0, name: METAL, pci bus id: <undefined>)\n",
      "2023-02-26 17:44:55.672424: W tensorflow/core/platform/profile_utils/cpu_utils.cc:128] Failed to get CPU frequency: 0 Hz\n",
      "2023-02-26 17:44:55.830113: I tensorflow/core/grappler/optimizers/custom_graph_optimizer_registry.cc:114] Plugin optimizer for device_type GPU is enabled.\n",
      "2023-02-26 17:44:58.170678: I tensorflow/core/grappler/optimizers/custom_graph_optimizer_registry.cc:114] Plugin optimizer for device_type GPU is enabled.\n",
      "2023-02-26 17:45:41.998056: I tensorflow/core/grappler/optimizers/custom_graph_optimizer_registry.cc:114] Plugin optimizer for device_type GPU is enabled.\n"
     ]
    }
   ],
   "source": [
    "dnames = ['ddaccgz_10', 'ddaccgz_20', 'ddaccgz_30', 'ddaccgz_40', 'ddaccgz_50', 'ddaccgz_60', 'ddaccgz_70', 'ddaccgz_80', 'ddaccgz_90', 'ddaccgz_100']\n",
    "dnames = ['ddaccgz_50']\n",
    "tle = []\n",
    "\n",
    "for a in range(len(dnames)):\n",
    "    x = np.load('../data/training_data/' + dnames[a] + '_input_x.npy')\n",
    "    y = np.load('../data/training_data/' + dnames[a] + '_input_y.npy')\n",
    "\n",
    "    result = np.where(y==1) # Identify take over instances\n",
    "    all_indices = list(range(y.shape[0]))\n",
    "    ntc_index = [i for i in all_indices if i not in result[0]] # Identify non-take over instances\n",
    "    tc_index = list(result[0])\n",
    "\n",
    "    # Take a subset of the non-take over instances such that class ratio is 1:1\n",
    "    tc_idx_size = len(tc_index)\n",
    "    random.shuffle(ntc_index)\n",
    "    ntc_data_idx = ntc_index[:tc_idx_size]\n",
    "\n",
    "    # Combine and shuffle the indices\n",
    "    idx = ntc_data_idx+tc_index\n",
    "    random.shuffle(idx)\n",
    "\n",
    "    X = x[idx]\n",
    "    Y = y[idx]\n",
    "    Y = Y.reshape(-1,1)\n",
    "    \n",
    "    tf.random.set_seed(0)\n",
    "\n",
    "    model = models.Sequential()\n",
    "    model.add(layers.Conv2D(8, (3,3), activation='relu', input_shape = (X.shape[1],X.shape[2],1)))\n",
    "    model.add(layers.MaxPool2D((2,2)))\n",
    "    model.add(layers.Conv2D(16, (3,3), activation='relu'))\n",
    "    model.add(layers.MaxPool2D((2,2)))\n",
    "    model.add(layers.Flatten())\n",
    "    model.add(layers.Dense(16, activation='tanh'))\n",
    "    model.add(layers.Dense(8, activation='tanh'))\n",
    "    model.add(layers.Dense(1, activation='sigmoid'))\n",
    "    model.compile(optimizer='adam', loss='binary_crossentropy', metrics=['accuracy'])\n",
    "    \n",
    "    met = []\n",
    "    for i in range(10):\n",
    "        x_t, x_test, y_t, y_test = train_test_split(X, Y, test_size=0.25, shuffle=True)\n",
    "        x_train, x_val, y_train, y_val = train_test_split(x_t, y_t, test_size=0.25, shuffle=True)\n",
    "\n",
    "        start = time.time()\n",
    "\n",
    "        history = model.fit(x_train, y_train, epochs=20, validation_data=(x_val, y_val), verbose=0)\n",
    "\n",
    "        end = time.time()\n",
    "\n",
    "        y_pred = model.predict(x_test, verbose=0)\n",
    "        for i in y_pred:\n",
    "            if i[0] >= 0.5:\n",
    "                i[0] = 1\n",
    "            else:\n",
    "                i[0] = 0\n",
    "\n",
    "        cf = metrics.confusion_matrix(y_test, y_pred)\n",
    "        total=sum(sum(cf))\n",
    "        accuracy = (cf[0,0]+cf[1,1])/total\n",
    "        specificity = cf[0,0]/(cf[0,0]+cf[0,1])\n",
    "        sensitivity = cf[1,1]/(cf[1,0]+cf[1,1]) #recall\n",
    "        precision = cf[1,1]/(cf[0,1]+cf[1,1])\n",
    "        f1 = 2*(1/((1/precision)+(1/sensitivity)))\n",
    "        ti = end - start\n",
    "\n",
    "        lt = [accuracy, specificity, sensitivity, precision, f1, ti]\n",
    "        met.append(lt)\n",
    "\n",
    "    metric = pd.DataFrame(met, columns=['accuracy', 'specificity', 'sensitivity', 'precision', 'f1-score', 'train_time'])\n",
    "\n",
    "    f_accuracy = metric['accuracy'].mean()\n",
    "    f_specificity = metric['specificity'].mean()\n",
    "    f_sensitivity = metric['sensitivity'].mean() #recall\n",
    "    f_precision = metric['precision'].mean()\n",
    "    f_f1 = metric['f1-score'].mean()\n",
    "    f_time = metric['train_time'].mean()\n",
    "\n",
    "    tp = [dnames[a], f_accuracy, f_specificity, f_sensitivity, f_precision, f_f1, f_time]\n",
    "    tle.append(tp)\n",
    "\n",
    "table = pd.DataFrame(tle, columns=['datatype', 'accuracy', 'specificity', 'sensitivity', 'precision', 'f1-score', 'train_time'])\n",
    "table.to_excel('../data/results/accuracy_tables/ddaccgz_kfold.xlsx', index=False)\n"
   ]
  }
 ],
 "metadata": {
  "kernelspec": {
   "display_name": "Python 3.10.6 ('venv')",
   "language": "python",
   "name": "python3"
  },
  "language_info": {
   "codemirror_mode": {
    "name": "ipython",
    "version": 3
   },
   "file_extension": ".py",
   "mimetype": "text/x-python",
   "name": "python",
   "nbconvert_exporter": "python",
   "pygments_lexer": "ipython3",
   "version": "3.10.6"
  },
  "orig_nbformat": 4,
  "vscode": {
   "interpreter": {
    "hash": "f2ac3815f490baa7abc22c2717d4dc21d64c0b7e1df0d49128b5f181d05973e7"
   }
  }
 },
 "nbformat": 4,
 "nbformat_minor": 2
}
