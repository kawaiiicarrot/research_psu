{
 "cells": [
  {
   "cell_type": "code",
   "execution_count": 4,
   "metadata": {},
   "outputs": [],
   "source": [
    "import pandas as pd"
   ]
  },
  {
   "cell_type": "code",
   "execution_count": 5,
   "metadata": {},
   "outputs": [],
   "source": [
    "subs = ['sub{}'.format(x) for x in range(1,33)]\n",
    "to = []\n",
    "\n",
    "for sub in subs:\n",
    "    df = pd.read_excel('../data/timestamp_data/TOIs.xlsx', sheet_name=sub)\n",
    "    t = df['Takeover'].astype(str)\n",
    "    t1 = [x.split(':') for x in t[4:16]]\n",
    "    tot = []\n",
    "    for y in t1:\n",
    "        t2 = [float(x) for x in y]\n",
    "        time = int((t2[2] + t2[1]*60 + t2[0]*60*60)*1000000)\n",
    "        tot.append(time)\n",
    "    to.append(tot)\n",
    "\n",
    "dfto = pd.DataFrame(to)\n",
    "dfto = dfto.T\n",
    "dfto.columns = subs\n",
    "dfto.to_csv('../data/timestamp_data/TO_micros.csv', index=False)\n"
   ]
  },
  {
   "cell_type": "code",
   "execution_count": 6,
   "metadata": {},
   "outputs": [],
   "source": [
    "df1 = pd.read_excel('../data/timestamp_data/TOIs.xlsx', sheet_name='sub1')\n",
    "df2 = pd.read_excel('../data/timestamp_data/TOIs.xlsx', sheet_name='sub9')\n",
    "df3 = pd.read_excel('../data/timestamp_data/TOIs.xlsx', sheet_name='sub17')\n",
    "df4 = pd.read_excel('../data/timestamp_data/TOIs.xlsx', sheet_name='sub25')\n",
    "\n",
    "c1 = df1['type'].to_list()[4:16]\n",
    "c2 = df2['type'].to_list()[4:16]\n",
    "c3 = df3['type'].to_list()[4:16]\n",
    "c4 = df4['type'].to_list()[4:16]\n",
    "\n",
    "c = pd.DataFrame([c1,c2,c3,c4])\n",
    "c = c.T\n",
    "c.columns = ['sub 1-8', 'sub 9-16', 'sub 17-24', 'sub 25-32']\n",
    "c.to_csv('../data/timestamp_data/exp_type.csv', index=False)\n"
   ]
  },
  {
   "cell_type": "code",
   "execution_count": null,
   "metadata": {},
   "outputs": [],
   "source": []
  }
 ],
 "metadata": {
  "kernelspec": {
   "display_name": "venv",
   "language": "python",
   "name": "python3"
  },
  "language_info": {
   "codemirror_mode": {
    "name": "ipython",
    "version": 3
   },
   "file_extension": ".py",
   "mimetype": "text/x-python",
   "name": "python",
   "nbconvert_exporter": "python",
   "pygments_lexer": "ipython3",
   "version": "3.10.6"
  },
  "orig_nbformat": 4,
  "vscode": {
   "interpreter": {
    "hash": "f2ac3815f490baa7abc22c2717d4dc21d64c0b7e1df0d49128b5f181d05973e7"
   }
  }
 },
 "nbformat": 4,
 "nbformat_minor": 2
}
