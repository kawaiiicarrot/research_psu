{
 "cells": [
  {
   "cell_type": "code",
   "execution_count": 1,
   "metadata": {},
   "outputs": [],
   "source": [
    "#import libraries\n",
    "import pandas as pd\n",
    "import glob\n",
    "import numpy as np\n",
    "from tqdm import tqdm\n"
   ]
  },
  {
   "cell_type": "code",
   "execution_count": 2,
   "metadata": {},
   "outputs": [],
   "source": [
    "#column names to drop\n",
    "every = ['elapsed_time', 'longitudinal_acceleration_due_to_braking', 'running_compliation_of_driver_crashes', 'drivers_response_time', 'vehicle#2s_forward_speed', 'lateral_position_of_vehicle#3_with_respect_to_the_roadways_dividing_line', 'brake_pedal_input_counts', 'vehicle#1s_forward_speed', 'minimum_range_(with_all_vehicles_opposing_the_drivers_direction)', 'lateral_position_of_vehicle#1_with_respect_to_the_roadways_dividing_line', 'minimum_time_to_collison_(with_all_vehicles_opposing_the_drivers_direction)']\n",
    "\n",
    "dd = ['elapsed_time', 'longitudinal_acceleration_due_to_braking', 'running_compliation_of_driver_crashes', 'drivers_response_time', 'vehicle#2s_forward_speed', 'lateral_position_of_vehicle#3_with_respect_to_the_roadways_dividing_line', 'brake_pedal_input_counts', 'vehicle#1s_forward_speed', 'minimum_range_(with_all_vehicles_opposing_the_drivers_direction)', 'lateral_position_of_vehicle#1_with_respect_to_the_roadways_dividing_line', 'minimum_time_to_collison_(with_all_vehicles_opposing_the_drivers_direction)', 'Accelerometer X [m/s²]', 'Accelerometer Y [m/s²]', 'Accelerometer Z [m/s²]', 'Gaze point X [MCS px]', 'Gaze point Y [MCS px]', 'Gaze point 3D X [HUCS mm]', 'Gaze point 3D Y [HUCS mm]', 'Gaze point 3D Z [HUCS mm]', 'Gaze direction left X [HUCS norm]', 'Gaze direction left Y [HUCS norm]', 'Gaze direction left Z [HUCS norm]', 'Gaze direction right X [HUCS norm]', 'Gaze direction right Y [HUCS norm]', 'Gaze direction right Z [HUCS norm]', 'Pupil position left X [HUCS mm]', 'Pupil position left Y [HUCS mm]', 'Pupil position left Z [HUCS mm]', 'Pupil position right X [HUCS mm]', 'Pupil position right Y [HUCS mm]', 'Pupil position right Z [HUCS mm]', 'Pupil diameter left [mm]', 'Pupil diameter right [mm]', 'Fixation point X [MCS px]', 'Fixation point Y [MCS px]', 'Gyro X [°/s]', 'Gyro Y [°/s]', 'Gyro Z [°/s]']\n",
    "\n",
    "ddacc = ['elapsed_time', 'longitudinal_acceleration_due_to_braking', 'running_compliation_of_driver_crashes', 'drivers_response_time', 'vehicle#2s_forward_speed', 'lateral_position_of_vehicle#3_with_respect_to_the_roadways_dividing_line', 'brake_pedal_input_counts', 'vehicle#1s_forward_speed', 'minimum_range_(with_all_vehicles_opposing_the_drivers_direction)', 'lateral_position_of_vehicle#1_with_respect_to_the_roadways_dividing_line', 'minimum_time_to_collison_(with_all_vehicles_opposing_the_drivers_direction)', 'Gaze point X [MCS px]', 'Gaze point Y [MCS px]', 'Gaze point 3D X [HUCS mm]', 'Gaze point 3D Y [HUCS mm]', 'Gaze point 3D Z [HUCS mm]', 'Gaze direction left X [HUCS norm]', 'Gaze direction left Y [HUCS norm]', 'Gaze direction left Z [HUCS norm]', 'Gaze direction right X [HUCS norm]', 'Gaze direction right Y [HUCS norm]', 'Gaze direction right Z [HUCS norm]', 'Pupil position left X [HUCS mm]', 'Pupil position left Y [HUCS mm]', 'Pupil position left Z [HUCS mm]', 'Pupil position right X [HUCS mm]', 'Pupil position right Y [HUCS mm]', 'Pupil position right Z [HUCS mm]', 'Pupil diameter left [mm]', 'Pupil diameter right [mm]', 'Fixation point X [MCS px]', 'Fixation point Y [MCS px]', 'Gyro X [°/s]', 'Gyro Y [°/s]', 'Gyro Z [°/s]']\n",
    "\n",
    "ddgy = ['elapsed_time', 'longitudinal_acceleration_due_to_braking', 'running_compliation_of_driver_crashes', 'drivers_response_time', 'vehicle#2s_forward_speed', 'lateral_position_of_vehicle#3_with_respect_to_the_roadways_dividing_line', 'brake_pedal_input_counts', 'vehicle#1s_forward_speed', 'minimum_range_(with_all_vehicles_opposing_the_drivers_direction)', 'lateral_position_of_vehicle#1_with_respect_to_the_roadways_dividing_line', 'minimum_time_to_collison_(with_all_vehicles_opposing_the_drivers_direction)', 'Accelerometer X [m/s²]', 'Accelerometer Y [m/s²]', 'Accelerometer Z [m/s²]', 'Gaze point X [MCS px]', 'Gaze point Y [MCS px]', 'Gaze point 3D X [HUCS mm]', 'Gaze point 3D Y [HUCS mm]', 'Gaze point 3D Z [HUCS mm]', 'Gaze direction left X [HUCS norm]', 'Gaze direction left Y [HUCS norm]', 'Gaze direction left Z [HUCS norm]', 'Gaze direction right X [HUCS norm]', 'Gaze direction right Y [HUCS norm]', 'Gaze direction right Z [HUCS norm]', 'Pupil position left X [HUCS mm]', 'Pupil position left Y [HUCS mm]', 'Pupil position left Z [HUCS mm]', 'Pupil position right X [HUCS mm]', 'Pupil position right Y [HUCS mm]', 'Pupil position right Z [HUCS mm]', 'Pupil diameter left [mm]', 'Pupil diameter right [mm]', 'Fixation point X [MCS px]', 'Fixation point Y [MCS px]']\n",
    "\n",
    "ddgz = ['elapsed_time', 'longitudinal_acceleration_due_to_braking', 'running_compliation_of_driver_crashes', 'drivers_response_time', 'vehicle#2s_forward_speed', 'lateral_position_of_vehicle#3_with_respect_to_the_roadways_dividing_line', 'brake_pedal_input_counts', 'vehicle#1s_forward_speed', 'minimum_range_(with_all_vehicles_opposing_the_drivers_direction)', 'lateral_position_of_vehicle#1_with_respect_to_the_roadways_dividing_line', 'minimum_time_to_collison_(with_all_vehicles_opposing_the_drivers_direction)', 'Accelerometer X [m/s²]', 'Accelerometer Y [m/s²]', 'Accelerometer Z [m/s²]', 'Gyro X [°/s]', 'Gyro Y [°/s]', 'Gyro Z [°/s]']\n",
    "\n",
    "ddaccgy = ['elapsed_time', 'longitudinal_acceleration_due_to_braking', 'running_compliation_of_driver_crashes', 'drivers_response_time', 'vehicle#2s_forward_speed', 'lateral_position_of_vehicle#3_with_respect_to_the_roadways_dividing_line', 'brake_pedal_input_counts', 'vehicle#1s_forward_speed', 'minimum_range_(with_all_vehicles_opposing_the_drivers_direction)', 'lateral_position_of_vehicle#1_with_respect_to_the_roadways_dividing_line', 'minimum_time_to_collison_(with_all_vehicles_opposing_the_drivers_direction)', 'Gaze point X [MCS px]', 'Gaze point Y [MCS px]', 'Gaze point 3D X [HUCS mm]', 'Gaze point 3D Y [HUCS mm]', 'Gaze point 3D Z [HUCS mm]', 'Gaze direction left X [HUCS norm]', 'Gaze direction left Y [HUCS norm]', 'Gaze direction left Z [HUCS norm]', 'Gaze direction right X [HUCS norm]', 'Gaze direction right Y [HUCS norm]', 'Gaze direction right Z [HUCS norm]', 'Pupil position left X [HUCS mm]', 'Pupil position left Y [HUCS mm]', 'Pupil position left Z [HUCS mm]', 'Pupil position right X [HUCS mm]', 'Pupil position right Y [HUCS mm]', 'Pupil position right Z [HUCS mm]', 'Pupil diameter left [mm]', 'Pupil diameter right [mm]', 'Fixation point X [MCS px]', 'Fixation point Y [MCS px]']\n",
    "\n",
    "ddaccgz = ['elapsed_time', 'longitudinal_acceleration_due_to_braking', 'running_compliation_of_driver_crashes', 'drivers_response_time', 'vehicle#2s_forward_speed', 'lateral_position_of_vehicle#3_with_respect_to_the_roadways_dividing_line', 'brake_pedal_input_counts', 'vehicle#1s_forward_speed', 'minimum_range_(with_all_vehicles_opposing_the_drivers_direction)', 'lateral_position_of_vehicle#1_with_respect_to_the_roadways_dividing_line', 'minimum_time_to_collison_(with_all_vehicles_opposing_the_drivers_direction)', 'Gyro X [°/s]', 'Gyro Y [°/s]', 'Gyro Z [°/s]']\n",
    "\n",
    "ddgygz = ['elapsed_time', 'longitudinal_acceleration_due_to_braking', 'running_compliation_of_driver_crashes', 'drivers_response_time', 'vehicle#2s_forward_speed', 'lateral_position_of_vehicle#3_with_respect_to_the_roadways_dividing_line', 'brake_pedal_input_counts', 'vehicle#1s_forward_speed', 'minimum_range_(with_all_vehicles_opposing_the_drivers_direction)', 'lateral_position_of_vehicle#1_with_respect_to_the_roadways_dividing_line', 'minimum_time_to_collison_(with_all_vehicles_opposing_the_drivers_direction)', 'Accelerometer X [m/s²]', 'Accelerometer Y [m/s²]', 'Accelerometer Z [m/s²]']\n"
   ]
  },
  {
   "cell_type": "code",
   "execution_count": 3,
   "metadata": {},
   "outputs": [
    {
     "name": "stderr",
     "output_type": "stream",
     "text": [
      "  0%|          | 0/7 [00:00<?, ?it/s]"
     ]
    },
    {
     "name": "stdout",
     "output_type": "stream",
     "text": [
      "(628168, 10, 18)\n",
      "(628168,)\n"
     ]
    },
    {
     "name": "stderr",
     "output_type": "stream",
     "text": [
      " 14%|█▍        | 1/7 [04:55<29:33, 295.61s/it]"
     ]
    },
    {
     "name": "stdout",
     "output_type": "stream",
     "text": [
      "(628168, 10, 21)\n",
      "(628168,)\n"
     ]
    },
    {
     "name": "stderr",
     "output_type": "stream",
     "text": [
      " 29%|██▊       | 2/7 [10:16<25:52, 310.50s/it]"
     ]
    },
    {
     "name": "stdout",
     "output_type": "stream",
     "text": [
      "(628168, 10, 21)\n",
      "(628168,)\n"
     ]
    },
    {
     "name": "stderr",
     "output_type": "stream",
     "text": [
      " 43%|████▎     | 3/7 [15:39<21:03, 315.98s/it]"
     ]
    },
    {
     "name": "stdout",
     "output_type": "stream",
     "text": [
      "(408210, 10, 39)\n",
      "(408210,)\n"
     ]
    },
    {
     "name": "stderr",
     "output_type": "stream",
     "text": [
      " 57%|█████▋    | 4/7 [38:09<36:13, 724.47s/it]"
     ]
    },
    {
     "name": "stdout",
     "output_type": "stream",
     "text": [
      "(628168, 10, 24)\n",
      "(628168,)\n"
     ]
    },
    {
     "name": "stderr",
     "output_type": "stream",
     "text": [
      " 71%|███████▏  | 5/7 [52:20<25:40, 770.07s/it]"
     ]
    },
    {
     "name": "stdout",
     "output_type": "stream",
     "text": [
      "(408210, 10, 42)\n",
      "(408210,)\n"
     ]
    },
    {
     "name": "stderr",
     "output_type": "stream",
     "text": [
      " 86%|████████▌ | 6/7 [58:54<10:42, 642.25s/it]"
     ]
    },
    {
     "name": "stdout",
     "output_type": "stream",
     "text": [
      "(408210, 10, 42)\n",
      "(408210,)\n"
     ]
    },
    {
     "name": "stderr",
     "output_type": "stream",
     "text": [
      "100%|██████████| 7/7 [1:15:02<00:00, 643.21s/it]\n"
     ]
    }
   ],
   "source": [
    "dirs = [d for d in glob.glob('../data/cleaned_driving_data_tobii/*')]\n",
    "type = [every, dd, ddacc, ddgy, ddgz, ddaccgy, ddaccgz, ddgygz]\n",
    "type_str = ['all', 'dd', 'ddacc', 'ddgy', 'ddgz', 'ddaccgy', 'ddaccgz', 'ddgygz']\n",
    "\n",
    "for t in tqdm(range(len(type))):\n",
    "    ws = 10\n",
    "    x = []\n",
    "    y = []\n",
    "    for d in dirs:\n",
    "        files = [f for f in glob.glob(d + '/*.csv')]\n",
    "        for file in files:\n",
    "            \n",
    "            df = pd.read_csv(file)\n",
    "            df = df.drop(type[t], axis=1) # keep changing the column names to get different data types\n",
    "            df['takeover'] = 0\n",
    "            df.loc[int(df[df['longitudinal_velocity'] != 88].index.values[0]), 'takeover'] = 1\n",
    "\n",
    "            ndf = (df-df.min())/(df.max()-df.min())\n",
    "\n",
    "            for i in range(0,len(ndf)-ws):\n",
    "                dft = ndf.iloc[i:i+ws]\n",
    "\n",
    "                if any (list(set(list(dft.isna().to_numpy().flatten())))) is True:\n",
    "                    continue\n",
    "                \n",
    "                if all(dft['takeover'] == 0):\n",
    "                    y.append(0)\n",
    "                else:\n",
    "                    y.append(1)\n",
    "\n",
    "                dft = dft.drop(['takeover'], axis=1)\n",
    "                x.append(dft.values)\n",
    "\n",
    "    x = np.array(x)\n",
    "    y = np.array(y)\n",
    "\n",
    "    print(x.shape)\n",
    "    print(y.shape)\n",
    "\n",
    "    np.save('../data/training_data/'+type_str[t]+'_'+str(ws)+'_input_x', x)\n",
    "    np.save('../data/training_data/'+type_str[t]+'_'+str(ws)+'_input_y', y)\n"
   ]
  },
  {
   "cell_type": "code",
   "execution_count": 3,
   "metadata": {},
   "outputs": [
    {
     "name": "stdout",
     "output_type": "stream",
     "text": [
      "(408210, 10, 39)\n",
      "(408210,)\n",
      "(368648, 20, 39)\n",
      "(368648,)\n",
      "(338463, 30, 39)\n",
      "(338463,)\n",
      "(313242, 40, 39)\n",
      "(313242,)\n",
      "(291064, 50, 39)\n",
      "(291064,)\n",
      "(271228, 60, 39)\n",
      "(271228,)\n",
      "(253337, 70, 39)\n",
      "(253337,)\n",
      "(237307, 80, 39)\n",
      "(237307,)\n",
      "(222713, 90, 39)\n",
      "(222713,)\n",
      "(209299, 100, 39)\n",
      "(209299,)\n"
     ]
    }
   ],
   "source": [
    "dirs = [d for d in glob.glob('../data/cleaned_driving_data_tobii/*')]\n",
    "wins = [k for k in range(10,101,10)]\n",
    "\n",
    "for ws in wins:\n",
    "    x = []\n",
    "    y = []\n",
    "    for d in dirs:\n",
    "        files = [f for f in glob.glob(d + '/*.csv')]\n",
    "        for file in files:\n",
    "            \n",
    "            df = pd.read_csv(file)\n",
    "            df = df.drop(ddgz, axis=1)\n",
    "            df['takeover'] = 0\n",
    "            df.loc[int(df[df['longitudinal_velocity'] != 88].index.values[0]), 'takeover'] = 1\n",
    "\n",
    "            ndf = (df-df.min())/(df.max()-df.min())\n",
    "\n",
    "            for i in range(0,len(ndf)-ws):\n",
    "                dft = ndf.iloc[i:i+ws]\n",
    "\n",
    "                if any (list(set(list(dft.isna().to_numpy().flatten())))) is True:\n",
    "                    continue\n",
    "                \n",
    "                if all(dft['takeover'] == 0):\n",
    "                    y.append(0)\n",
    "                else:\n",
    "                    y.append(1)\n",
    "\n",
    "                dft = dft.drop(['takeover'], axis=1)\n",
    "                x.append(dft.values)\n",
    "\n",
    "    x = np.array(x)\n",
    "    y = np.array(y)\n",
    "\n",
    "    print(x.shape)\n",
    "    print(y.shape)\n",
    "\n",
    "    np.save('../data/training_data/ddgz_'+str(ws)+'_input_x', x)\n",
    "    np.save('../data/training_data/ddgz_'+str(ws)+'_input_y', y)\n"
   ]
  }
 ],
 "metadata": {
  "kernelspec": {
   "display_name": "Python 3.10.6 ('venv')",
   "language": "python",
   "name": "python3"
  },
  "language_info": {
   "codemirror_mode": {
    "name": "ipython",
    "version": 3
   },
   "file_extension": ".py",
   "mimetype": "text/x-python",
   "name": "python",
   "nbconvert_exporter": "python",
   "pygments_lexer": "ipython3",
   "version": "3.10.6"
  },
  "orig_nbformat": 4,
  "vscode": {
   "interpreter": {
    "hash": "f2ac3815f490baa7abc22c2717d4dc21d64c0b7e1df0d49128b5f181d05973e7"
   }
  }
 },
 "nbformat": 4,
 "nbformat_minor": 2
}
