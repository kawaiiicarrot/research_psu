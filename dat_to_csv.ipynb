{
 "cells": [
  {
   "cell_type": "code",
   "execution_count": 24,
   "metadata": {},
   "outputs": [],
   "source": [
    "import glob\n",
    "import csv\n"
   ]
  },
  {
   "cell_type": "code",
   "execution_count": 25,
   "metadata": {},
   "outputs": [],
   "source": [
    "header_names = ['elapsed_time', 'longitudinal_acceleration', 'lateral_acceleration', 'longitudinal_velocity', 'lateral_velocity', 'total_longitudinal_distance_travelled', 'lateral_lane_position', 'vehicle_heading_angle', \n",
    "'misc', 'longitudinal_acceleration_due_to_throttle', 'longitudinal_acceleration_due_to_braking', 'running_compliation_of_driver_crashes', 'minimum_time_to_collision_(for_the_current_simulation_frame)', \n",
    "'gas_pedal_input_counts', 'brake_pedal_input_counts', 'minimum_time_to_collision_(with_all_vehicles_in_the_drivers_direction)', 'minimum_rage_(with_all_vehicles_in_the_drivers_direction)', 'minimum_time_to_collison_(with_all_vehicles_opposing_the_drivers_direction)', \n",
    "'minimum_range_(with_all_vehicles_opposing_the_drivers_direction)', 'drivers_response_time', 'distance_down_the_road_between_the_center_of_the_drivers_vehicle_and_the_vehicle#1_(250_ft_ahead_in_the_drivers_lane)', 'lateral_position_of_vehicle#1_with_respect_to_the_roadways_dividing_line', \n",
    "'vehicle#1s_forward_speed', 'distance_down_the_road_between_the_center_of_the_drivers_vehicle_and_vehicle#2_(150_ft_ahead_in_adjacent_lane)', 'lateral_position_of_vehicle#2_with_respect_to_the_roadways_dividing_line', 'vehicle#2s_forward_speed', \n",
    "'distance_down_the_road_between_the_center_of_the_drivers_vehicle_and_vehicle#3_(160_ft_behind_the_driver_in_adjacent_lane)', 'lateral_position_of_vehicle#3_with_respect_to_the_roadways_dividing_line', 'vehicle#3s_forward_speed']\n",
    "\n",
    "tab_files = ['../data/driving_data/sub03/11.Dat']\n",
    "skip_files = ['../data/driving_data/sub01/13.Dat', '../data/driving_data/sub03/9.Dat']\n"
   ]
  },
  {
   "cell_type": "code",
   "execution_count": 26,
   "metadata": {},
   "outputs": [],
   "source": [
    "dirs = [f for f in glob.glob('../data/driving_data/*')]\n",
    "files = ['{}.Dat'.format(x) for x in range(5,17)]\n"
   ]
  },
  {
   "cell_type": "code",
   "execution_count": 27,
   "metadata": {},
   "outputs": [],
   "source": [
    "for dir in dirs:\n",
    "    save_path = '../data/cleaned_driving_data/' + dir.split('/')[-1] + '/'\n",
    "    for file in files:\n",
    "        file_path = dir + '/' + file\n",
    "        save_name = file.split('.')[0] + '.csv'\n",
    "\n",
    "        if file_path in skip_files:\n",
    "            continue\n",
    "        \n",
    "        if file_path in tab_files:\n",
    "            with open(file_path) as dat_file, open((save_path + save_name), 'w') as csv_file:\n",
    "                csv_writer = csv.writer(csv_file)\n",
    "                csv_writer.writerow(header_names)\n",
    "                for line in dat_file:\n",
    "                    row = [field.strip() for field in line.split('\\t') if field != '']\n",
    "                    if len(row) == 30:\n",
    "                        csv_writer.writerow(row)\n",
    "        else:\n",
    "            with open(file_path) as dat_file, open((save_path + save_name), 'w') as csv_file:\n",
    "                csv_writer = csv.writer(csv_file)\n",
    "                csv_writer.writerow(header_names)\n",
    "                for line in dat_file:\n",
    "                    row = [field.strip() for field in line.split(' ') if field != '']\n",
    "                    if len(row) == 29:\n",
    "                        csv_writer.writerow(row)\n"
   ]
  },
  {
   "cell_type": "code",
   "execution_count": null,
   "metadata": {},
   "outputs": [],
   "source": []
  }
 ],
 "metadata": {
  "kernelspec": {
   "display_name": "Python 3.10.6 ('venv')",
   "language": "python",
   "name": "python3"
  },
  "language_info": {
   "codemirror_mode": {
    "name": "ipython",
    "version": 3
   },
   "file_extension": ".py",
   "mimetype": "text/x-python",
   "name": "python",
   "nbconvert_exporter": "python",
   "pygments_lexer": "ipython3",
   "version": "3.10.6"
  },
  "orig_nbformat": 4,
  "vscode": {
   "interpreter": {
    "hash": "f2ac3815f490baa7abc22c2717d4dc21d64c0b7e1df0d49128b5f181d05973e7"
   }
  }
 },
 "nbformat": 4,
 "nbformat_minor": 2
}
