{
 "cells": [
  {
   "cell_type": "code",
   "execution_count": 1,
   "metadata": {},
   "outputs": [],
   "source": [
    "#import libraries\n",
    "import pandas as pd\n",
    "import tensorflow as tf\n",
    "from keras import layers, models\n",
    "import numpy as np\n",
    "import matplotlib.pyplot as plt\n",
    "from sklearn.model_selection import train_test_split\n",
    "import random\n",
    "from sklearn import metrics\n",
    "import time\n"
   ]
  },
  {
   "cell_type": "code",
   "execution_count": 2,
   "metadata": {},
   "outputs": [
    {
     "name": "stderr",
     "output_type": "stream",
     "text": [
      "2023-02-26 16:30:05.291737: I tensorflow/core/common_runtime/pluggable_device/pluggable_device_factory.cc:306] Could not identify NUMA node of platform GPU ID 0, defaulting to 0. Your kernel may not have been built with NUMA support.\n",
      "2023-02-26 16:30:05.291846: I tensorflow/core/common_runtime/pluggable_device/pluggable_device_factory.cc:272] Created TensorFlow device (/job:localhost/replica:0/task:0/device:GPU:0 with 0 MB memory) -> physical PluggableDevice (device: 0, name: METAL, pci bus id: <undefined>)\n",
      "2023-02-26 16:30:05.442509: W tensorflow/core/platform/profile_utils/cpu_utils.cc:128] Failed to get CPU frequency: 0 Hz\n"
     ]
    },
    {
     "name": "stdout",
     "output_type": "stream",
     "text": [
      "Metal device set to: Apple M2\n",
      "\n",
      "systemMemory: 16.00 GB\n",
      "maxCacheSize: 5.33 GB\n",
      "\n"
     ]
    },
    {
     "name": "stderr",
     "output_type": "stream",
     "text": [
      "2023-02-26 16:30:05.613407: I tensorflow/core/grappler/optimizers/custom_graph_optimizer_registry.cc:114] Plugin optimizer for device_type GPU is enabled.\n",
      "2023-02-26 16:30:06.690587: I tensorflow/core/grappler/optimizers/custom_graph_optimizer_registry.cc:114] Plugin optimizer for device_type GPU is enabled.\n",
      "2023-02-26 16:30:24.098486: I tensorflow/core/grappler/optimizers/custom_graph_optimizer_registry.cc:114] Plugin optimizer for device_type GPU is enabled.\n",
      "2023-02-26 16:30:26.439669: I tensorflow/core/grappler/optimizers/custom_graph_optimizer_registry.cc:114] Plugin optimizer for device_type GPU is enabled.\n",
      "2023-02-26 16:30:28.175893: I tensorflow/core/grappler/optimizers/custom_graph_optimizer_registry.cc:114] Plugin optimizer for device_type GPU is enabled.\n",
      "2023-02-26 16:30:59.574664: I tensorflow/core/grappler/optimizers/custom_graph_optimizer_registry.cc:114] Plugin optimizer for device_type GPU is enabled.\n",
      "2023-02-26 16:31:02.774749: I tensorflow/core/grappler/optimizers/custom_graph_optimizer_registry.cc:114] Plugin optimizer for device_type GPU is enabled.\n",
      "2023-02-26 16:31:04.914301: I tensorflow/core/grappler/optimizers/custom_graph_optimizer_registry.cc:114] Plugin optimizer for device_type GPU is enabled.\n",
      "2023-02-26 16:31:46.113395: I tensorflow/core/grappler/optimizers/custom_graph_optimizer_registry.cc:114] Plugin optimizer for device_type GPU is enabled.\n",
      "2023-02-26 16:31:49.856452: I tensorflow/core/grappler/optimizers/custom_graph_optimizer_registry.cc:114] Plugin optimizer for device_type GPU is enabled.\n",
      "2023-02-26 16:31:52.371385: I tensorflow/core/grappler/optimizers/custom_graph_optimizer_registry.cc:114] Plugin optimizer for device_type GPU is enabled.\n",
      "2023-02-26 16:32:37.699942: I tensorflow/core/grappler/optimizers/custom_graph_optimizer_registry.cc:114] Plugin optimizer for device_type GPU is enabled.\n",
      "2023-02-26 16:32:42.390068: I tensorflow/core/grappler/optimizers/custom_graph_optimizer_registry.cc:114] Plugin optimizer for device_type GPU is enabled.\n",
      "2023-02-26 16:32:44.589433: I tensorflow/core/grappler/optimizers/custom_graph_optimizer_registry.cc:114] Plugin optimizer for device_type GPU is enabled.\n",
      "2023-02-26 16:33:29.113848: I tensorflow/core/grappler/optimizers/custom_graph_optimizer_registry.cc:114] Plugin optimizer for device_type GPU is enabled.\n",
      "2023-02-26 16:33:34.240859: I tensorflow/core/grappler/optimizers/custom_graph_optimizer_registry.cc:114] Plugin optimizer for device_type GPU is enabled.\n",
      "2023-02-26 16:33:37.032659: I tensorflow/core/grappler/optimizers/custom_graph_optimizer_registry.cc:114] Plugin optimizer for device_type GPU is enabled.\n",
      "2023-02-26 16:34:34.510790: I tensorflow/core/grappler/optimizers/custom_graph_optimizer_registry.cc:114] Plugin optimizer for device_type GPU is enabled.\n",
      "2023-02-26 16:34:40.850032: I tensorflow/core/grappler/optimizers/custom_graph_optimizer_registry.cc:114] Plugin optimizer for device_type GPU is enabled.\n",
      "2023-02-26 16:34:44.431446: I tensorflow/core/grappler/optimizers/custom_graph_optimizer_registry.cc:114] Plugin optimizer for device_type GPU is enabled.\n",
      "2023-02-26 16:35:45.966076: I tensorflow/core/grappler/optimizers/custom_graph_optimizer_registry.cc:114] Plugin optimizer for device_type GPU is enabled.\n",
      "2023-02-26 16:35:52.320721: I tensorflow/core/grappler/optimizers/custom_graph_optimizer_registry.cc:114] Plugin optimizer for device_type GPU is enabled.\n",
      "2023-02-26 16:35:55.846357: I tensorflow/core/grappler/optimizers/custom_graph_optimizer_registry.cc:114] Plugin optimizer for device_type GPU is enabled.\n",
      "2023-02-26 16:37:03.023844: I tensorflow/core/grappler/optimizers/custom_graph_optimizer_registry.cc:114] Plugin optimizer for device_type GPU is enabled.\n",
      "2023-02-26 16:37:10.398750: I tensorflow/core/grappler/optimizers/custom_graph_optimizer_registry.cc:114] Plugin optimizer for device_type GPU is enabled.\n",
      "2023-02-26 16:37:14.348763: I tensorflow/core/grappler/optimizers/custom_graph_optimizer_registry.cc:114] Plugin optimizer for device_type GPU is enabled.\n",
      "2023-02-26 16:38:27.914623: I tensorflow/core/grappler/optimizers/custom_graph_optimizer_registry.cc:114] Plugin optimizer for device_type GPU is enabled.\n",
      "2023-02-26 16:38:34.943187: I tensorflow/core/grappler/optimizers/custom_graph_optimizer_registry.cc:114] Plugin optimizer for device_type GPU is enabled.\n",
      "2023-02-26 16:38:39.202162: I tensorflow/core/grappler/optimizers/custom_graph_optimizer_registry.cc:114] Plugin optimizer for device_type GPU is enabled.\n",
      "2023-02-26 16:39:58.796423: I tensorflow/core/grappler/optimizers/custom_graph_optimizer_registry.cc:114] Plugin optimizer for device_type GPU is enabled.\n"
     ]
    }
   ],
   "source": [
    "wins = [x for x in range(10,101,10)]\n",
    "tab = []\n",
    "\n",
    "for t in wins:\n",
    "    x = np.load('../data/training_data/ddaccgz_' + str(t) + '_input_x.npy')\n",
    "    y = np.load('../data/training_data/ddaccgz_' + str(t) + '_input_y.npy')\n",
    "\n",
    "    result = np.where(y==1) # Identify take over instances\n",
    "    all_indices = list(range(y.shape[0]))\n",
    "    ntc_index = [i for i in all_indices if i not in result[0]] # Identify non-take over instances\n",
    "    tc_index = list(result[0])\n",
    "\n",
    "    # Take a subset of the non-take over instances such that class ratio is 1:1\n",
    "    tc_idx_size = len(tc_index)\n",
    "    random.shuffle(ntc_index)\n",
    "    ntc_data_idx = ntc_index[:tc_idx_size]\n",
    "\n",
    "    # Combine and shuffle the indices\n",
    "    idx = ntc_data_idx+tc_index\n",
    "    random.shuffle(idx)\n",
    "\n",
    "    X = x[idx]\n",
    "    Y = y[idx]\n",
    "    Y = Y.reshape(-1,1)\n",
    "    \n",
    "    x_t, x_test, y_t, y_test = train_test_split(X, Y, test_size=0.25, shuffle=True)\n",
    "    x_train, x_val, y_train, y_val = train_test_split(x_t, y_t, test_size=0.25, shuffle=True)\n",
    "\n",
    "    tf.random.set_seed(0)\n",
    "\n",
    "    model = models.Sequential()\n",
    "    model.add(layers.Conv2D(8, (3,3), activation='relu', input_shape = (X.shape[1],X.shape[2],1)))\n",
    "    model.add(layers.MaxPool2D((2,2)))\n",
    "    model.add(layers.Conv2D(16, (3,3), activation='relu'))\n",
    "    model.add(layers.MaxPool2D((2,2)))\n",
    "    model.add(layers.Flatten())\n",
    "    model.add(layers.Dense(16, activation='tanh'))\n",
    "    model.add(layers.Dense(8, activation='tanh'))\n",
    "    model.add(layers.Dense(1, activation='sigmoid'))\n",
    "    model.compile(optimizer='adam', loss='binary_crossentropy', metrics=['accuracy'])\n",
    "\n",
    "    start = time.time()\n",
    "\n",
    "    history = model.fit(x_train, y_train, epochs=20, validation_data=(x_val, y_val), verbose=0)\n",
    "\n",
    "    end = time.time()\n",
    "\n",
    "    plt.plot(history.history['accuracy'], label='train accuracy')\n",
    "    plt.plot(history.history['val_accuracy'], label='validation accuracy')\n",
    "    plt.plot(history.history['loss'], label='train loss')\n",
    "    plt.plot(history.history['val_loss'], label='validation loss')\n",
    "    plt.xlabel('# of epochs')\n",
    "    plt.ylabel('accuracy / loss')\n",
    "    plt.ylim([0,1])\n",
    "    plt.legend(loc='center right')\n",
    "    plt.title(t)\n",
    "    plt.savefig('../data/results/figures/ddaccgz/' + str(t) + '.png', dpi=800)\n",
    "    plt.close()\n",
    "\n",
    "    y_pred = model.predict(x_test, verbose=0)\n",
    "    for i in y_pred:\n",
    "        if i[0] >= 0.5:\n",
    "            i[0] = 1\n",
    "        else:\n",
    "            i[0] = 0\n",
    "\n",
    "    cf = metrics.confusion_matrix(y_test, y_pred)\n",
    "    total=sum(sum(cf))\n",
    "    accuracy = (cf[0,0]+cf[1,1])/total\n",
    "    specificity = cf[0,0]/(cf[0,0]+cf[0,1])\n",
    "    sensitivity = cf[1,1]/(cf[1,0]+cf[1,1]) #recall\n",
    "    precision = cf[1,1]/(cf[0,1]+cf[1,1])\n",
    "    f1 = 2*(1/((1/precision)+(1/sensitivity)))\n",
    "    ti = end - start\n",
    "\n",
    "    tp = [t, accuracy, specificity, sensitivity, precision, f1, ti]\n",
    "    tab.append(tp)\n",
    "\n",
    "table = pd.DataFrame(tab, columns=['datatype', 'accuracy', 'specificity', 'sensitivity', 'precision', 'f1-score', 'train_time'])\n",
    "table.to_excel('../data/results/accuracy_tables/ddaccgz.xlsx', index=False)\n"
   ]
  }
 ],
 "metadata": {
  "kernelspec": {
   "display_name": "venv",
   "language": "python",
   "name": "python3"
  },
  "language_info": {
   "codemirror_mode": {
    "name": "ipython",
    "version": 3
   },
   "file_extension": ".py",
   "mimetype": "text/x-python",
   "name": "python",
   "nbconvert_exporter": "python",
   "pygments_lexer": "ipython3",
   "version": "3.10.6"
  },
  "orig_nbformat": 4,
  "vscode": {
   "interpreter": {
    "hash": "f2ac3815f490baa7abc22c2717d4dc21d64c0b7e1df0d49128b5f181d05973e7"
   }
  }
 },
 "nbformat": 4,
 "nbformat_minor": 2
}
