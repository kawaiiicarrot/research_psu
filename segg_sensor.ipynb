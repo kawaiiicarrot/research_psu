{
 "cells": [
  {
   "cell_type": "code",
   "execution_count": 1,
   "metadata": {},
   "outputs": [],
   "source": [
    "#import libraries\n",
    "import pandas as pd\n",
    "import glob"
   ]
  },
  {
   "cell_type": "code",
   "execution_count": 2,
   "metadata": {},
   "outputs": [],
   "source": [
    "#importing the files\n",
    "files = [f for f in glob.glob('../data/tobii_glass_data/*.tsv')]\n",
    "\n",
    "etm = ['Recording timestamp [ms]', 'Computer timestamp [ms]', 'Gaze point X [MCS px]', 'Gaze point Y [MCS px]',\n",
    "       'Gaze point 3D X [HUCS mm]', 'Gaze point 3D Y [HUCS mm]', 'Gaze point 3D Z [HUCS mm]', 'Gaze direction left X [HUCS norm]',\n",
    "       'Gaze direction left Y [HUCS norm]', 'Gaze direction left Z [HUCS norm]', 'Gaze direction right X [HUCS norm]', 'Gaze direction right Y [HUCS norm]',\n",
    "       'Gaze direction right Z [HUCS norm]', 'Pupil position left X [HUCS mm]', 'Pupil position left Y [HUCS mm]', 'Pupil position left Z [HUCS mm]',\n",
    "       'Pupil position right X [HUCS mm]', 'Pupil position right Y [HUCS mm]', 'Pupil position right Z [HUCS mm]', 'Pupil diameter left [mm]',\n",
    "       'Pupil diameter right [mm]', 'Eye movement type', 'Gaze event duration [ms]', 'Fixation point X [MCS px]', 'Fixation point Y [MCS px]']\n",
    "\n",
    "gym = ['Recording timestamp [ms]', 'Computer timestamp [ms]', 'Gyro X [°/s]', 'Gyro Y [°/s]', 'Gyro Z [°/s]']\n",
    "\n",
    "accm = ['Recording timestamp [ms]', 'Computer timestamp [ms]', 'Accelerometer X [m/s²]', 'Accelerometer Y [m/s²]', 'Accelerometer Z [m/s²]']\n",
    "\n",
    "etμ = ['Recording timestamp [μs]', 'Computer timestamp [μs]', 'Gaze point X [MCS px]', 'Gaze point Y [MCS px]',\n",
    "       'Gaze point 3D X [HUCS mm]', 'Gaze point 3D Y [HUCS mm]', 'Gaze point 3D Z [HUCS mm]', 'Gaze direction left X [HUCS norm]',\n",
    "       'Gaze direction left Y [HUCS norm]', 'Gaze direction left Z [HUCS norm]', 'Gaze direction right X [HUCS norm]', 'Gaze direction right Y [HUCS norm]',\n",
    "       'Gaze direction right Z [HUCS norm]', 'Pupil position left X [HUCS mm]', 'Pupil position left Y [HUCS mm]', 'Pupil position left Z [HUCS mm]',\n",
    "       'Pupil position right X [HUCS mm]', 'Pupil position right Y [HUCS mm]', 'Pupil position right Z [HUCS mm]', 'Pupil diameter left [mm]',\n",
    "       'Pupil diameter right [mm]', 'Eye movement type', 'Gaze event duration [ms]', 'Fixation point X [MCS px]', 'Fixation point Y [MCS px]']\n",
    "\n",
    "gyμ = ['Recording timestamp [μs]', 'Computer timestamp [μs]', 'Gyro X [°/s]', 'Gyro Y [°/s]', 'Gyro Z [°/s]']\n",
    "\n",
    "accμ = ['Recording timestamp [μs]', 'Computer timestamp [μs]', 'Accelerometer X [m/s²]', 'Accelerometer Y [m/s²]', 'Accelerometer Z [m/s²]']\n"
   ]
  },
  {
   "cell_type": "code",
   "execution_count": 3,
   "metadata": {},
   "outputs": [],
   "source": [
    "#differentiating\n",
    "for file in files:\n",
    "    file_name = ((file.split('/')[-1]).split('.')[0]) + '.csv'\n",
    "    \n",
    "    df = pd.read_csv(file, sep = '\\t')\n",
    "\n",
    "    if df.columns[0] == 'Recording timestamp [ms]':\n",
    "        df['Recording timestamp [ms]'] = df['Recording timestamp [ms]']*1000\n",
    "        dfe = df[etm][df['Sensor'] == 'Eye Tracker'].reset_index(drop=True)\n",
    "        dfe.to_csv('../data/tobii_et_data/' + file_name, index=False)\n",
    "        dfg = df[gym][df['Sensor'] == 'Gyroscope'].reset_index(drop=True)\n",
    "        dfg.to_csv('../data/tobii_gy_data/' + file_name, index=False)\n",
    "        dfa = df[accm][df['Sensor'] == 'Accelerometer'].reset_index(drop=True)\n",
    "        dfa.to_csv('../data/tobii_acc_data/' + file_name, index=False)\n",
    "    else:\n",
    "        dfe = df[etμ][df['Sensor'] == 'Eye Tracker'].reset_index(drop=True)\n",
    "        dfe.to_csv('../data/tobii_et_data/' + file_name, index=False)\n",
    "        dfg = df[gyμ][df['Sensor'] == 'Gyroscope'].reset_index(drop=True)\n",
    "        dfg.to_csv('../data/tobii_gy_data/' + file_name, index=False)\n",
    "        dfa = df[accμ][df['Sensor'] == 'Accelerometer'].reset_index(drop=True)\n",
    "        dfa.to_csv('../data/tobii_acc_data/' + file_name, index=False)\n"
   ]
  },
  {
   "cell_type": "code",
   "execution_count": null,
   "metadata": {},
   "outputs": [],
   "source": []
  }
 ],
 "metadata": {
  "kernelspec": {
   "display_name": "venv",
   "language": "python",
   "name": "python3"
  },
  "language_info": {
   "codemirror_mode": {
    "name": "ipython",
    "version": 3
   },
   "file_extension": ".py",
   "mimetype": "text/x-python",
   "name": "python",
   "nbconvert_exporter": "python",
   "pygments_lexer": "ipython3",
   "version": "3.10.6"
  },
  "orig_nbformat": 4,
  "vscode": {
   "interpreter": {
    "hash": "f2ac3815f490baa7abc22c2717d4dc21d64c0b7e1df0d49128b5f181d05973e7"
   }
  }
 },
 "nbformat": 4,
 "nbformat_minor": 2
}
